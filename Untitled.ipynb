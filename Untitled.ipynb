{
 "cells": [
  {
   "cell_type": "code",
   "execution_count": 4,
   "metadata": {},
   "outputs": [
    {
     "name": "stdout",
     "output_type": "stream",
     "text": [
      "검색어를 입력하세요.구독자이벤트\n",
      "[<a aria-label=\"(구독자문상이벤트16회차추첨영상)강촌탈과다중인격 게시자: event뽀송뽀송 1시간 전 8분, 35초 조회수 없음\" class=\"yt-simple-endpoint style-scope ytd-video-renderer\" href=\"/watch?v=O1Q2DoMyACI\" id=\"video-title\" title=\"(구독자문상이벤트16회차추첨영상)강촌탈과다중인격\">\n",
      "                (구독자문상이벤트16회차추첨영상)강촌탈과다중인격\n",
      "              </a>, <a aria-label=\"구독자 이벤트를 시작합니다! (끝까지 보셔야 피해X) 게시자: 숨사장: Red Velvet 2시간 전 2분, 24초 조회수 1,496회\" class=\"yt-simple-endpoint style-scope ytd-video-renderer\" href=\"/watch?v=BLMF92kp1Cs\" id=\"video-title\" title=\"구독자 이벤트를 시작합니다! (끝까지 보셔야 피해X)\">\n",
      "                구독자 이벤트를 시작합니다! (끝까지 보셔야 피해X)\n",
      "              </a>, <a aria-label=\"브롤스타즈[생]구독자100명 이벤트 예행연습 및 시청자참여!!!(brwalstars) 게시자: MagoYT [마고TV] 스트리밍 시간: 3시간 전 2시간, 47분 조회수 175회\" class=\"yt-simple-endpoint style-scope ytd-video-renderer\" href=\"/watch?v=zN0A5LrQlGs\" id=\"video-title\" title=\"브롤스타즈[생]구독자100명 이벤트 예행연습 및 시청자참여!!!(brwalstars)\">\n",
      "                브롤스타즈[생]구독자100명 이벤트 예행연습 및 시청자참여!!!(brwalstars)\n",
      "              </a>, <a aria-label=\"구독자55명 이벤트:Q&amp;A(빠른 참여부탁) 게시자: 다크데드FPS অঃF.D.Dজ 2시간 전 67초 조회수 33회\" class=\"yt-simple-endpoint style-scope ytd-video-renderer\" href=\"/watch?v=893WidRO_8o\" id=\"video-title\" title=\"구독자55명 이벤트:Q&amp;A(빠른 참여부탁)\">\n",
      "                구독자55명 이벤트:Q&amp;A(빠른 참여부탁)\n",
      "              </a>, <a aria-label=\"구독자 200명 달성 이벤트!! 감사합니다♥️ 게시자: 예띠 3시간 전 2분, 49초 조회수 38회\" class=\"yt-simple-endpoint style-scope ytd-video-renderer\" href=\"/watch?v=u8-5gCfHmWo\" id=\"video-title\" title=\"구독자 200명 달성 이벤트!! 감사합니다♥️\">\n",
      "                구독자 200명 달성 이벤트!! 감사합니다♥️\n",
      "              </a>, <a aria-label=\"구독자 이벤트 선물 발송해 드렸습니다!!! 게시자: Daerong Tiger대롱타이거 4시간 전 82초 조회수 22회\" class=\"yt-simple-endpoint style-scope ytd-video-renderer\" href=\"/watch?v=LoD5usb5hOU\" id=\"video-title\" title=\"구독자 이벤트 선물 발송해 드렸습니다!!!\">\n",
      "                구독자 이벤트 선물 발송해 드렸습니다!!!\n",
      "              </a>, <a aria-label=\"90명 구독자 기념 포용이벤트🐇❤ 게시자: 토토밍's YouTube 4시간 전 48초 조회수 19회\" class=\"yt-simple-endpoint style-scope ytd-video-renderer\" href=\"/watch?v=8vrsVILfirM\" id=\"video-title\" title=\"90명 구독자 기념 포용이벤트🐇❤\">\n",
      "                90명 구독자 기념 포용이벤트🐇❤\n",
      "              </a>, <a aria-label=\"로또 선물, 구독자 1만명 돌파 기념 이벤트_나대길 게시자: 나대길 4시간 전 5분, 31초 조회수 705회\" class=\"yt-simple-endpoint style-scope ytd-video-renderer\" href=\"/watch?v=9URQMfCBkkc\" id=\"video-title\" title=\"로또 선물, 구독자 1만명 돌파 기념 이벤트_나대길\">\n",
      "                로또 선물, 구독자 1만명 돌파 기념 이벤트_나대길\n",
      "              </a>, <a aria-label=\"문상 이벤트 당첨자 발표 !! (구독자 100명 이벤트하니 구독 해두세요!) 게시자: 롤 하이라이트-LOL highlight 4시간 전 79초 조회수 22회\" class=\"yt-simple-endpoint style-scope ytd-video-renderer\" href=\"/watch?v=Ug7zSFRUg50\" id=\"video-title\" title=\"문상 이벤트 당첨자 발표 !! (구독자 100명 이벤트하니 구독 해두세요!)\">\n",
      "                문상 이벤트 당첨자 발표 !! (구독자 100명 이벤트하니 구독 해두세요!)\n",
      "              </a>, <a aria-label=\"구독자 이벤트 축구화준다!! 게시자: 슛잘하는형쿠티뉴 4시간 전 11초 조회수 26회\" class=\"yt-simple-endpoint style-scope ytd-video-renderer\" href=\"/watch?v=KDCpZlaDF8o\" id=\"video-title\" title=\"구독자 이벤트 축구화준다!!\">\n",
      "                구독자 이벤트 축구화준다!!\n",
      "              </a>, <a aria-label=\"☆2019 구독자 첫 감사이벤트☆ 게시자: 케이와이키친 4시간 전 58초 조회수 48회\" class=\"yt-simple-endpoint style-scope ytd-video-renderer\" href=\"/watch?v=OUMRFmnZve0\" id=\"video-title\" title=\"☆2019 구독자 첫 감사이벤트☆\">\n",
      "                ☆2019 구독자 첫 감사이벤트☆\n",
      "              </a>, <a aria-label=\"[이벤트] 1만 구독자님들 감사합니다!!! 게시자: 헤버구떼_큐도리 5시간 전 85초 조회수 941회\" class=\"yt-simple-endpoint style-scope ytd-video-renderer\" href=\"/watch?v=njZlU6atzaY\" id=\"video-title\" title=\"[이벤트] 1만 구독자님들 감사합니다!!!\">\n",
      "                [이벤트] 1만 구독자님들 감사합니다!!!\n",
      "              </a>, <a aria-label=\"2.8일 e스포츠&amp;워모드 시참 즐기기(유튜브 구독자 이벤트중) 게시자: 핑퐁현 스트리밍 시간: 8시간 전 5시간 조회수 395회\" class=\"yt-simple-endpoint style-scope ytd-video-renderer\" href=\"/watch?v=t0tN2U51UT0\" id=\"video-title\" title=\"2.8일 e스포츠&amp;워모드 시참 즐기기(유튜브 구독자 이벤트중)\">\n",
      "                2.8일 e스포츠&amp;워모드 시참 즐기기(유튜브 구독자 이벤트중)\n",
      "              </a>]\n"
     ]
    }
   ],
   "source": [
    "import requests\n",
    "from bs4 import BeautifulSoup\n",
    "from selenium import webdriver\n",
    "import time\n",
    "# import sys\n",
    "# import io\n",
    "# \n",
    "# \n",
    "# sys.stdout = io.TextIOWrapper(sys.stdout.detach(), encoding = 'utf-8')\n",
    "# sys.stderr = io.TextIOWrapper(sys.stderr.detach(), encoding = 'utf-8')\n",
    "\n",
    "\n",
    "driver = webdriver.Chrome(r\"C:\\Users\\yeony\\Anaconda3\\envs\\Youtube_API\\Lib\\site-packages\\chromedriver\")\n",
    "time.sleep(1)\n",
    "\n",
    "base_url = 'https://www.youtube.com/results?sp=CAI%253D&search_query='\n",
    "query = input(\"검색어를 입력하세요.\")\n",
    "url = base_url + query\n",
    "driver.get(url)\n",
    "\n",
    "html = driver.page_source\n",
    "get_title = BeautifulSoup(html, 'html.parser')\n",
    "# tags = get_title.find_all('h3.yt-lockup-title')\n",
    "\n",
    "# title_list = get_title.find_all(\"a\", {\"id\": \"video-title\"})\n",
    "title_list = get_title.find_all('a', attrs={'id':'video-title'})\n",
    "print(title_list)\n",
    "\n"
   ]
  }
 ],
 "metadata": {
  "kernelspec": {
   "display_name": "Python 3",
   "language": "python",
   "name": "python3"
  },
  "language_info": {
   "codemirror_mode": {
    "name": "ipython",
    "version": 3
   },
   "file_extension": ".py",
   "mimetype": "text/x-python",
   "name": "python",
   "nbconvert_exporter": "python",
   "pygments_lexer": "ipython3",
   "version": "3.6.6"
  }
 },
 "nbformat": 4,
 "nbformat_minor": 2
}
